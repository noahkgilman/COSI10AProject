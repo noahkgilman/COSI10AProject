{
 "cells": [
  {
   "cell_type": "code",
   "execution_count": 1,
   "metadata": {},
   "outputs": [
    {
     "name": "stdout",
     "output_type": "stream",
     "text": [
      "~~~~~~~~~~~~~~~~~~~~~~~\n",
      "Welcome math adventurer!\n",
      "~~~~~~~~~~~~~~~~~~~~~~~\n",
      "1. Arctic Addition\n",
      "2. Mars Multiplication\n",
      "3. Scuba Subtraction\n"
     ]
    },
    {
     "name": "stdin",
     "output_type": "stream",
     "text": [
      "Choose your voyage for today (1  2 or 3):  3\n"
     ]
    },
    {
     "name": "stdout",
     "output_type": "stream",
     "text": [
      "You have chosen:\n",
      " ____                _              ____          _      _                       _    _               \n",
      "/ ___|   ___  _   _ | |__    __ _  / ___|  _   _ | |__  | |_  _ __   __ _   ___ | |_ (_)  ___   _ __  \n",
      "\\___ \\  / __|| | | || '_ \\  / _` | \\___ \\ | | | || '_ \\ | __|| '__| / _` | / __|| __|| | / _ \\ | '_ \\ \n",
      " ___) || (__ | |_| || |_) || (_| |  ___) || |_| || |_) || |_ | |   | (_| || (__ | |_ | || (_) || | | |\n",
      "|____/  \\___| \\__,_||_.__/  \\__,_| |____/  \\__,_||_.__/  \\__||_|    \\__,_| \\___| \\__||_| \\___/ |_| |_|\n",
      "                                                                                                      \n",
      "\n",
      "Ahoy Matey! You are going on a scuba diving trip to explore a sunken pirate ship. Solve this math fact to successfully gear up with your flippers and oxygen tank.\n",
      "8-4\n"
     ]
    },
    {
     "name": "stdin",
     "output_type": "stream",
     "text": [
      "=  4\n"
     ]
    },
    {
     "name": "stdout",
     "output_type": "stream",
     "text": [
      "Correct! Great job adventurer!\n",
      "You swim off in the direction of the ship when a pod of dolphins appear.  `·.¸¸ ><((((º>.·´¯`·><((((º>     Solve this math fact to hitch a ride with the dolphins.\n",
      "10-6\n"
     ]
    },
    {
     "name": "stdin",
     "output_type": "stream",
     "text": [
      "=  4\n"
     ]
    },
    {
     "name": "stdout",
     "output_type": "stream",
     "text": [
      "Correct! Great job adventurer!\n",
      "You arrive near the dive location quickly thanks to your flippered friends. Solve this math fact to set up your dive flag and prepare for submersion.\n",
      "6-6\n"
     ]
    },
    {
     "name": "stdin",
     "output_type": "stream",
     "text": [
      "=  0\n"
     ]
    },
    {
     "name": "stdout",
     "output_type": "stream",
     "text": [
      "Correct! Great job adventurer!\n",
      "You dive down excited for what you are about to see. Solve this math fact to approach the sunken ship.\n",
      "2-2\n"
     ]
    },
    {
     "name": "stdin",
     "output_type": "stream",
     "text": [
      "=  0\n"
     ]
    },
    {
     "name": "stdout",
     "output_type": "stream",
     "text": [
      "Correct! Great job adventurer!\n",
      "There it is! The legendary Brown Pearl, sunken in all her glory! Solve this math fact to notice the ship's hidden treasure chest.\n",
      "3-8\n"
     ]
    },
    {
     "name": "stdin",
     "output_type": "stream",
     "text": [
      "=  -5\n"
     ]
    },
    {
     "name": "stdout",
     "output_type": "stream",
     "text": [
      "Correct! Great job adventurer!\n",
      "You find a large ruby ring and gold coins! Solve this math fact to avoid waking the ghost of the revered Captain Zach Swallow. ಠ_ರೃ \n",
      "2-6\n"
     ]
    },
    {
     "name": "stdin",
     "output_type": "stream",
     "text": [
      "=  -4\n"
     ]
    },
    {
     "name": "stdout",
     "output_type": "stream",
     "text": [
      "Correct! Great job adventurer!\n",
      "You manage to sneak off with some of Captain Zach Swallow's treasure! But alas, a giant squid tries to eat you for lunch.  くコ:彡  Solve this math fact to escape.\n",
      "11-6\n"
     ]
    },
    {
     "name": "stdin",
     "output_type": "stream",
     "text": [
      "=  5\n"
     ]
    },
    {
     "name": "stdout",
     "output_type": "stream",
     "text": [
      "Correct! Great job adventurer!\n",
      "Luckily, your dolphin pals rescue you and bring you back to your boat.  `·.¸¸ ><((((º>.·´¯`·><((((º>      Solve this math fact to catch some fish for them as a thank you. ¸.·´¯`·.´¯`·.¸¸.·´¯`·.¸><(((º> \n",
      "7-6\n"
     ]
    },
    {
     "name": "stdin",
     "output_type": "stream",
     "text": [
      "=  1\n"
     ]
    },
    {
     "name": "stdout",
     "output_type": "stream",
     "text": [
      "Correct! Great job adventurer!\n",
      "You head back towards shore around sunset. Solve this math fact to see the illusive green flash as the sun dips below the horizon.\n",
      "7-11\n"
     ]
    },
    {
     "name": "stdin",
     "output_type": "stream",
     "text": [
      "=  -2\n"
     ]
    },
    {
     "name": "stdout",
     "output_type": "stream",
     "text": [
      "Not quite right adventurer, try again!\n"
     ]
    },
    {
     "name": "stdin",
     "output_type": "stream",
     "text": [
      "=  -3\n"
     ]
    },
    {
     "name": "stdout",
     "output_type": "stream",
     "text": [
      "7-11\n"
     ]
    },
    {
     "name": "stdin",
     "output_type": "stream",
     "text": [
      "=  -3\n"
     ]
    },
    {
     "name": "stdout",
     "output_type": "stream",
     "text": [
      "Not quite right adventurer, try again!\n"
     ]
    },
    {
     "name": "stdin",
     "output_type": "stream",
     "text": [
      "=  -4\n"
     ]
    },
    {
     "name": "stdout",
     "output_type": "stream",
     "text": [
      "7-11\n"
     ]
    },
    {
     "name": "stdin",
     "output_type": "stream",
     "text": [
      "=  -4\n"
     ]
    },
    {
     "name": "stdout",
     "output_type": "stream",
     "text": [
      "Correct! Great job adventurer!\n",
      "(¯`·._.··¸.-~*´¨¯¨`*·~-.,-(__)-,.-~*´¨¯¨`*·~-.¸··._.·´¯) You return home pleased with your journey but very hungry. Solve this math fact to find a peanut butter and jelly sandwich waiting for you in the kitchen.\n",
      "3-10\n"
     ]
    },
    {
     "name": "stdin",
     "output_type": "stream",
     "text": [
      "=  -7\n"
     ]
    },
    {
     "name": "stdout",
     "output_type": "stream",
     "text": [
      "Correct! Great job adventurer!\n",
      "[^_^] You have finished your adventure! Congratulations!\n"
     ]
    },
    {
     "name": "stdin",
     "output_type": "stream",
     "text": [
      "Would you like to play again? (Y/N):  n\n"
     ]
    },
    {
     "name": "stdout",
     "output_type": "stream",
     "text": [
      "Thank you for playing!!\n"
     ]
    }
   ],
   "source": [
    "import random\n",
    "import time\n",
    "from art import *\n",
    "\n",
    "##ascii adventure art!\n",
    "face=art(\"happy5\")\n",
    "surprise=art(\"what??\")\n",
    "happy=art(\"happy2\")\n",
    "\n",
    "sailing=art(\"text decoration\")\n",
    "bear1=art(\"polar bear\")\n",
    "bear2=art(\"go away bear\")\n",
    "narwhal=art(\"dab\")\n",
    "storm=art(\"weather\")\n",
    "\n",
    "aliens=art(\"wtf dude?\")\n",
    "happyalien=art(\"acid\")\n",
    "spaceship=art(\"bender\")\n",
    "rocket=art(\"rocket\")\n",
    "meteor=art(\"rose1\")\n",
    "stars=art(\"stars2\")\n",
    "\n",
    "ocean=art(\"waves\")\n",
    "squid=art(\"squid)\")\n",
    "sunset=art(\"text decoration\")\n",
    "pirate=art(\"zaible\")\n",
    "fish=art(\"fish swim\")\n",
    "dolphinride=art(\"fish3\")\n",
    "\n",
    "\n",
    "##to greet the student\n",
    "def greeting():\n",
    "    print(\"~~~~~~~~~~~~~~~~~~~~~~~\")\n",
    "    print(\"Welcome math adventurer!\")\n",
    "    print(\"~~~~~~~~~~~~~~~~~~~~~~~\")\n",
    "\n",
    "##math fact option types\n",
    "def level():\n",
    "    level=[\"1. Arctic Addition\", \"2. Mars Multiplication\", \"3. Scuba Subtraction\"]\n",
    "    print(level[0])\n",
    "    print(level[1])\n",
    "    print(level[2])\n",
    "\n",
    "##to choose which type of math facts\n",
    "def which_level():\n",
    "    which_level=int(input(\"Choose your voyage for today (1  2 or 3): \"))\n",
    "    while which_level > 3 or which_level <0:\n",
    "        print(\"That is not an available adventure!\")\n",
    "        print(\"The options are: 1. Arctic Addition, 2. Mars Multiplication, 3. Scuba Subtraction\")\n",
    "        which_level=int(input(\"Please choose again: \")) \n",
    "    return which_level\n",
    "\n",
    "#to ask math facts   \n",
    "def math_facts(which_level):\n",
    "    firstnum = random.randrange(1, 12)\n",
    "    secondnum = random.randrange(1, 12)\n",
    "    if which_level == 1:\n",
    "        question = str(firstnum) + \"+\" + str(secondnum)\n",
    "        the_answer = firstnum + secondnum\n",
    "    elif which_level == 2:\n",
    "        question = str(firstnum) + \"*\" + str(secondnum)\n",
    "        the_answer = firstnum * secondnum\n",
    "    elif which_level == 3:\n",
    "        question = str(firstnum) + \"-\" + str(secondnum)\n",
    "        the_answer = firstnum - secondnum\n",
    "    progress=False\n",
    "    while not progress:\n",
    "        print(question)\n",
    "        adventurer_answer=int(input(\"= \"))\n",
    "        if adventurer_answer == the_answer: \n",
    "            print(\"Correct! Great job adventurer!\")\n",
    "            progress=True\n",
    "        else: \n",
    "            print(\"Not quite right adventurer, try again!\")\n",
    "            adventurer_answer=int(input(\"= \"))\n",
    "            \n",
    " ## addition plot \n",
    "\n",
    "def addition():\n",
    "    print(\"You have chosen:\")\n",
    "    time.sleep(2)\n",
    "    tprint(\"arctic addition\")\n",
    "    story = [\"You're on your boat down to the arctic and you're caught in a storm.\"+ storm + \" Answer this math fact to escape the storm!\", \n",
    "             \"You made it out of the storm, but there are some icebergs! Answer this math fact to make it to shore safely.\",\n",
    "            \"You are sailing through mist but you see something moving on the horizon.\" + sailing + \" Solve this math fact to see what it is.\",\n",
    "            narwhal + \"   You see a whole pod of narwhals, the unicorns of the sea, how cool! After many days of sea travel, you are finally approaching the icey shore. Solve this math fact to find a good place to go ashore.\",\n",
    "            \"You and your crew are happy to be on solid ground again, even if it is really cold. Solve this math fact to protect your toes from frostbite with a pair of warm boots.\",\n",
    "            \"You are geared up with the best winter clothing and are ready for more adventuring. Solve this math fact to read your map and find your next destination.\",\n",
    "            \"You are going to explore an ice cave! Unfortunately you slip as you are entering the cave and slide into a cavern of ice.  \" + surprise + \"  Solve this math fact to climb out with your ice axe.\",\n",
    "            \"When you leave the cave you come face to face with a huge polar bear!  \" + bear1 + \"  Solve this math fact to tame the bear with some food you have in your pack.\",\n",
    "            bear2 + \"You part ways with the polar bear feeling as if you have made a new friend. Next, you come across a bunch of penguins. Solve this math fact to save a baby penguin from being eaten by a seal.\",\n",
    "            \"You have had a wonderful adventure in the arctic seeing the flora and fauna. Solve this math fact to find your way back to your boat and return home!\"]\n",
    "    for i in range(10):\n",
    "        print(story[i])\n",
    "        math_facts(1)\n",
    "    print(face + \"You have finished your adventure! Congratulations!\")\n",
    "\n",
    "## multiplication plot \n",
    "def multiplication():\n",
    "    print(\"You have chosen:\")\n",
    "    time.sleep(2)\n",
    "    tprint(\"Mars Multiplication\", font=\"cybermedium\")\n",
    "    story = [\"You are traveling through the solar system and hoping to explore the mystery planet Mars.\" + stars + \" Solve this math fact to successfully navigate to Mars.\", \n",
    "             \"You attempt to land on the rocky desert terrain of Mars but you are approaching the ground too fast. Solve this math fact to deploy landing parachutes and safely touch down.\",\n",
    "            spaceship + \"You have landed and are setting out to explore the mysterious planet Mars. Solve this math fact to protect yourself from the galactic cosmic rays around you with a space suit.\",\n",
    "            \"As you begin walking around a small meteor comes out of the sky!  \" + surprise + \"  Solve this math fact to nimbly dodge the meteor.\",\n",
    "            \"Your acrobatics are matrix-worthy!  \" + meteor +\" As you are leaping out of the meteor's path you notice a small gleaming rock fly off of it. Solve this math fact to collect a special martian meteorite.\",\n",
    "            \"With your new space souvenir in your pocket you head off to see the famous Mars Tharsis Cave. Solve this math fact to avoid getting lost on the way.\",\n",
    "            \"In the Tharsis Cave you start to hear strange sounds. Suddenly you are surrounded by martians!  \" + aliens + \"  Solve this math fact to convince them that you come in peace.\",\n",
    "            happyalien + \"Your new Mars friends serve you one of their specialty dishes- fried Mars slug seasoned with rock dust. Solve this math fact to politely take a bite without gagging so you don't offend your new friends.\",\n",
    "            \"After finding a new taste for Mars food you head back to your space ship with a full belly. Solve this math fact to have your Martian friends send you off with a to-go order of Mars slug for your trip home.\",\n",
    "            \"You have explored Mars and made new Martian friends. They said you are welcome back anytime and they will always have a serving of Mars slug waiting for their human pal. You are very tired from your great adventure.  \" + rocket + \"Solve this math fact to safely return home for a good night's sleep.\"]\n",
    "    for i in range(10):\n",
    "        print(story[i])\n",
    "        math_facts(2)\n",
    "    print(face + \"You have finished your adventure! Congratulations!\")\n",
    "               \n",
    "        \n",
    "## subtraction plot \n",
    "def subtraction():\n",
    "    print(\"You have chosen:\")\n",
    "    time.sleep(2)\n",
    "    tprint(\"Scuba Subtraction\")\n",
    "    story = [\"Ahoy Matey! You are going on a scuba diving trip to explore a sunken pirate ship. Solve this math fact to successfully gear up with your flippers and oxygen tank.\", \n",
    "             \"You swim off in the direction of the ship when a pod of dolphins appear.  \" + dolphinride + \"Solve this math fact to hitch a ride with the dolphins.\",\n",
    "            \"You arrive near the dive location quickly thanks to your flippered friends. Solve this math fact to set up your dive flag and prepare for submersion.\",\n",
    "            \"You dive down excited for what you are about to see. Solve this math fact to approach the sunken ship.\",\n",
    "            \"There it is! The legendary Brown Pearl, sunken in all her glory!  \" + happy + \" Solve this math fact to notice the ship's hidden treasure chest.\",\n",
    "            \"You find a large ruby ring and gold coins! Solve this math fact to avoid waking the ghost of the revered Captain Zach Swallow. \" + pirate,\n",
    "            \"You manage to sneak off with some of Captain Zach Swallow's treasure! But alas, a giant squid tries to eat you for lunch.  \" + squid + \" Solve this math fact to escape.\",\n",
    "            \"Luckily, your dolphin pals rescue you and bring you back to your boat.  \" + dolphinride + \" Solve this math fact to catch some fish for them as a thank you. \" + fish,\n",
    "            \"You head back towards shore around sunset. Solve this math fact to see the illusive green flash as the sun dips below the horizon.  \" + sunset,\n",
    "            \"You return home pleased with your journey but very hungry. Solve this math fact to find a peanut butter and jelly sandwich waiting for you in the kitchen.\"]\n",
    "    for i in range(10):\n",
    "        print(story[i])\n",
    "        math_facts(3)\n",
    "    print(face + \"You have finished your adventure! Congratulations!\")\n",
    "               \n",
    "        \n",
    "def play_mathgame\n",
    "    want_to_play = True\n",
    "    while (want_to_play):\n",
    "        greeting()\n",
    "        time.sleep(1)\n",
    "        level()\n",
    "        time.sleep(1)\n",
    "        stage = which_level()\n",
    "        if stage == 1:\n",
    "            incorrect = addition()\n",
    "        elif stage == 2:\n",
    "            incorrect = multiplication()\n",
    "        elif stage == 3:\n",
    "            incorrect = subtraction()\n",
    "        again = input(\"Would you like to play again? (Y/N): \")\n",
    "        if again.upper() == \"Y\":\n",
    "            want_to_play = True\n",
    "        else:\n",
    "            want_to_play = False\n",
    "    print(\"Thank you for playing!!\")\n",
    "        \n",
    "\n",
    "play_mathgame()        \n",
    "\n",
    "\n",
    "##how to add in where if someone types letter it does not give error -instead reasks question\n",
    "##how to get rid of bug when you get answer wrong and then have to type it twice to move on"
   ]
  },
  {
   "cell_type": "code",
   "execution_count": 5,
   "metadata": {},
   "outputs": [
    {
     "name": "stdout",
     "output_type": "stream",
     "text": [
      "⊂(◉‿◉)つ \n"
     ]
    }
   ],
   "source": [
    "##test ascii art\n",
    "from art import*\n",
    "pic=art(\"acid\")\n",
    "\n",
    "\n",
    "def makeart():\n",
    "    print(pic)\n",
    "\n",
    "makeart()"
   ]
  },
  {
   "cell_type": "code",
   "execution_count": 9,
   "metadata": {
    "jupyter": {
     "source_hidden": true
    }
   },
   "outputs": [
    {
     "name": "stdout",
     "output_type": "stream",
     "text": [
      "＼(◑д◐)＞∠(◑д◐) \n"
     ]
    }
   ],
   "source": [
    "from art import *\n",
    "aliens=art(\"wtf dude?\", \"wat\", \"wat-wat\")\n",
    "happy_alien=art(\"up\",\"acid\")\n",
    "print(aliens)\n",
    "print(happy_aliens)"
   ]
  },
  {
   "cell_type": "code",
   "execution_count": null,
   "metadata": {},
   "outputs": [],
   "source": [
    "print(\"You have chosen:\")\n",
    "\n",
    "tprint(\"arctic addition\")\n",
    "\n",
    "tprint(\"Mars Multiplication\", font=\"cybermedium\")\n",
    "\n",
    "tprint(\"Scuba Subtraction\")\n"
   ]
  },
  {
   "cell_type": "code",
   "execution_count": null,
   "metadata": {},
   "outputs": [],
   "source": []
  }
 ],
 "metadata": {
  "kernelspec": {
   "display_name": "Python 3",
   "language": "python",
   "name": "python3"
  },
  "language_info": {
   "codemirror_mode": {
    "name": "ipython",
    "version": 3
   },
   "file_extension": ".py",
   "mimetype": "text/x-python",
   "name": "python",
   "nbconvert_exporter": "python",
   "pygments_lexer": "ipython3",
   "version": "3.7.4"
  }
 },
 "nbformat": 4,
 "nbformat_minor": 4
}
