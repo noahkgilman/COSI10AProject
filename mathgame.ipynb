{
 "cells": [
  {
   "cell_type": "code",
   "execution_count": 12,
   "metadata": {},
   "outputs": [
    {
     "name": "stdout",
     "output_type": "stream",
     "text": [
      "~~~~~~~~~~~~~~~~~~~~~~~\n",
      "Welcome math adventurer!\n",
      "~~~~~~~~~~~~~~~~~~~~~~~\n",
      "1. Arctic Addition\n",
      "2. Spaceship Subtraction\n",
      "3. Mars Multiplication\n",
      "4. Dungeon Division\n"
     ]
    },
    {
     "name": "stdin",
     "output_type": "stream",
     "text": [
      "Choose your voyage for today (1  2  3 or 4):  1\n"
     ]
    },
    {
     "ename": "NameError",
     "evalue": "name 'plot_one' is not defined",
     "output_type": "error",
     "traceback": [
      "\u001b[1;31m---------------------------------------------------------------------------\u001b[0m",
      "\u001b[1;31mNameError\u001b[0m                                 Traceback (most recent call last)",
      "\u001b[1;32m<ipython-input-12-93a007196da8>\u001b[0m in \u001b[0;36m<module>\u001b[1;34m\u001b[0m\n\u001b[0;32m     98\u001b[0m \u001b[1;33m\u001b[0m\u001b[0m\n\u001b[0;32m     99\u001b[0m \u001b[1;33m\u001b[0m\u001b[0m\n\u001b[1;32m--> 100\u001b[1;33m \u001b[0mplay_mathgame\u001b[0m\u001b[1;33m(\u001b[0m\u001b[1;33m)\u001b[0m\u001b[1;33m\u001b[0m\u001b[1;33m\u001b[0m\u001b[0m\n\u001b[0m\u001b[0;32m    101\u001b[0m \u001b[1;33m\u001b[0m\u001b[0m\n\u001b[0;32m    102\u001b[0m \u001b[1;33m\u001b[0m\u001b[0m\n",
      "\u001b[1;32m<ipython-input-12-93a007196da8>\u001b[0m in \u001b[0;36mplay_mathgame\u001b[1;34m()\u001b[0m\n\u001b[0;32m     94\u001b[0m         \u001b[0mwhich_level\u001b[0m\u001b[1;33m(\u001b[0m\u001b[1;33m)\u001b[0m\u001b[1;33m\u001b[0m\u001b[1;33m\u001b[0m\u001b[0m\n\u001b[0;32m     95\u001b[0m         \u001b[0madventure_plot\u001b[0m\u001b[1;33m(\u001b[0m\u001b[0mwhich_level\u001b[0m\u001b[1;33m)\u001b[0m\u001b[1;33m\u001b[0m\u001b[1;33m\u001b[0m\u001b[0m\n\u001b[1;32m---> 96\u001b[1;33m         \u001b[0mprint\u001b[0m \u001b[1;33m(\u001b[0m\u001b[0mplot_one\u001b[0m\u001b[1;33m)\u001b[0m\u001b[1;33m\u001b[0m\u001b[1;33m\u001b[0m\u001b[0m\n\u001b[0m\u001b[0;32m     97\u001b[0m         \u001b[0mmath_facts\u001b[0m\u001b[1;33m(\u001b[0m\u001b[0mwhich_level\u001b[0m\u001b[1;33m)\u001b[0m\u001b[1;33m\u001b[0m\u001b[1;33m\u001b[0m\u001b[0m\n\u001b[0;32m     98\u001b[0m \u001b[1;33m\u001b[0m\u001b[0m\n",
      "\u001b[1;31mNameError\u001b[0m: name 'plot_one' is not defined"
     ]
    }
   ],
   "source": [
    "import random\n",
    "import time\n",
    "\n",
    "##to greet the student\n",
    "def greeting():\n",
    "    print(\"~~~~~~~~~~~~~~~~~~~~~~~\")\n",
    "    print(\"Welcome math adventurer!\")\n",
    "    print(\"~~~~~~~~~~~~~~~~~~~~~~~\")\n",
    "\n",
    "##math fact option types\n",
    "def level():\n",
    "    level=[\"1. Arctic Addition\", \"2. Spaceship Subtraction\", \"3. Mars Multiplication\", \"4. Dungeon Division\"]\n",
    "    print(level[0])\n",
    "    print(level[1])\n",
    "    print(level[2])\n",
    "    print(level[3])\n",
    "\n",
    "##to choose which type of math facts\n",
    "def which_level():\n",
    "    which_level=int(input(\"Choose your voyage for today (1  2  3 or 4): \"))\n",
    "    while which_level > 4 or which_level <0:\n",
    "        print(\"That is not an available adventure!\")\n",
    "        print(\"The options are: 1. Arctic Addition, 2. Spaceship Subtraction, 3, Mars Multiplication, 4. Dungeon Division \")\n",
    "        which_level=int(input(\"Please choose again: \")) \n",
    "    else:\n",
    "        return which_level\n",
    "   \n",
    "\n",
    "def adventure_plot(which_level):\n",
    "    if which_level is 1:\n",
    "        plot_one= \"Arctic plot blah blah\"\n",
    "        ##plot_two=\n",
    "       ## plot_three=\n",
    "         ## plot_four=\n",
    "         ## plot_five=\n",
    "         ## plot_six\n",
    "          ##plot_seven\n",
    "         ## plot_eight\n",
    "          ##plot_nine\n",
    "          ##plot_ten\n",
    "         ## final_words\n",
    "        return plot_one\n",
    "    elif which_level is 2:\n",
    "        plot_one= \"Space plot blah blah\"\n",
    "        return plot_one\n",
    "    ##plot_two, plot_three, plot_four, plot_five, plot_six, plot_seven, plot_eight, plot_nine, plot_ten, final_words\n",
    "    elif which_level is 3:\n",
    "        plot_one=\"Mars plot blah blah\"\n",
    "        return plot_one\n",
    "    else:\n",
    "        plot_one=\"dungeon plot blah\"\n",
    "        return plot_one\n",
    "\n",
    "#to ask math facts   \n",
    "def math_facts(which_level):\n",
    "    firstnum = random.randrange(1, 12)\n",
    "    secondnum = random.randrange(1, 12)\n",
    "    if which_level is 1:\n",
    "        question = str(firstnum) + \"+\" + str(secondnum)\n",
    "        the_answer = firstnum + secondnum\n",
    "    elif which_level is 2:\n",
    "        question = str(firstnum) + \"-\" + str(secondnum)\n",
    "        the_answer = firstnum - secondnum\n",
    "    elif which_level is 3:\n",
    "        question = str(firstnum) + \"*\" + str(secondnum)\n",
    "        the_answer = firstnum * secondnum\n",
    "    else:\n",
    "        question = str(firstnum) - \"/\" - str(secondnum)\n",
    "        the_answer = firstnum // secondnum\n",
    "    progress=False\n",
    "    while not progress:\n",
    "        print(\"To continue adventuring, solve this math problem!\")\n",
    "        print(question)\n",
    "        adventurer_answer=int(input(\"= \"))\n",
    "        if adventurer_answer == the_answer: \n",
    "            print(\"Correct! Great job adventurer! So then...\")\n",
    "            progress=True\n",
    "        else: \n",
    "            print(\"Not quite right adventurer, try again!\")\n",
    "            print(question)\n",
    "            adventurer_answer=int(input(\"= \"))\n",
    "   \n",
    "        \n",
    "##need to put in main calling math_facts at turning points in adventure        \n",
    "        \n",
    "        \n",
    "def play_mathgame():\n",
    "    want_to_play = True\n",
    "    while (want_to_play):\n",
    "        greeting()\n",
    "        time.sleep(1)\n",
    "        level()\n",
    "        time.sleep(1)\n",
    "        which_level()\n",
    "        adventure_plot(which_level)\n",
    "        print (plot_one)\n",
    "        math_facts(which_level)\n",
    "        \n",
    "\n",
    "play_mathgame()        \n",
    "\n",
    "\n",
    "## could add way to keep track of total right/wrong and display at the end of session \n",
    "##could add fifth option to play all types of math facts at once"
   ]
  },
  {
   "cell_type": "code",
   "execution_count": 1,
   "metadata": {},
   "outputs": [
    {
     "name": "stdout",
     "output_type": "stream",
     "text": [
      "1 8\n"
     ]
    }
   ],
   "source": [
    "import random\n",
    "\n",
    "firstnum = random.randrange(1, 12)\n",
    "secondnum = random.randrange(1, 12)\n",
    "print(firstnum, secondnum)"
   ]
  },
  {
   "cell_type": "code",
   "execution_count": null,
   "metadata": {},
   "outputs": [],
   "source": []
  }
 ],
 "metadata": {
  "kernelspec": {
   "display_name": "Python 3",
   "language": "python",
   "name": "python3"
  },
  "language_info": {
   "codemirror_mode": {
    "name": "ipython",
    "version": 3
   },
   "file_extension": ".py",
   "mimetype": "text/x-python",
   "name": "python",
   "nbconvert_exporter": "python",
   "pygments_lexer": "ipython3",
   "version": "3.7.4"
  }
 },
 "nbformat": 4,
 "nbformat_minor": 4
}
