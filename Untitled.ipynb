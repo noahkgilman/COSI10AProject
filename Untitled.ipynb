{
 "cells": [
  {
   "cell_type": "code",
   "execution_count": null,
   "metadata": {},
   "outputs": [],
   "source": [
    "#to ask math facts   \n",
    "def math_facts(which_level):\n",
    "    firstnum = random.randrange(1, 12)\n",
    "    secondnum = random.randrange(1, 12)\n",
    "    if which_level == 1:\n",
    "        question = str(firstnum) + \"+\" + str(secondnum)\n",
    "        the_answer = firstnum + secondnum\n",
    "    elif which_level == 2:\n",
    "        question = str(firstnum) + \"*\" + str(secondnum)\n",
    "        the_answer = firstnum - secondnum\n",
    "    progress=False\n",
    "    while not progress:\n",
    "        print(question)\n",
    "        adventurer_answer=int(input(\"= \"))\n",
    "        while adventurer_answer not == the_answer:\n",
    "        if adventurer_answer == the_answer: \n",
    "            print(\"Correct! Great job adventurer!\")\n",
    "            progress=True\n",
    "        else: \n",
    "            print(\"Not quite right adventurer, try again!\")\n",
    "            adventurer_answer=int(input(\"= \"))\n",
    "            "
   ]
  }
 ],
 "metadata": {
  "kernelspec": {
   "display_name": "Python 3",
   "language": "python",
   "name": "python3"
  },
  "language_info": {
   "codemirror_mode": {
    "name": "ipython",
    "version": 3
   },
   "file_extension": ".py",
   "mimetype": "text/x-python",
   "name": "python",
   "nbconvert_exporter": "python",
   "pygments_lexer": "ipython3",
   "version": "3.7.6"
  }
 },
 "nbformat": 4,
 "nbformat_minor": 4
}
